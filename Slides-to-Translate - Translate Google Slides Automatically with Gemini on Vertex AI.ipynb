{
  "nbformat": 4,
  "nbformat_minor": 0,
  "metadata": {
    "colab": {
      "provenance": [],
      "include_colab_link": true
    },
    "kernelspec": {
      "name": "python3",
      "display_name": "Python 3"
    },
    "language_info": {
      "name": "python"
    }
  },
  "cells": [
    {
      "cell_type": "markdown",
      "metadata": {
        "id": "view-in-github",
        "colab_type": "text"
      },
      "source": [
        "<a href=\"https://colab.research.google.com/github/fmind/slides-to-translate/blob/main/Slides-to-Translate%20-%20Translate%20Google%20Slides%20Automatically%20with%20Gemini%20on%20Vertex%20AI.ipynb\" target=\"_parent\"><img src=\"https://colab.research.google.com/assets/colab-badge.svg\" alt=\"Open In Colab\"/></a>"
      ]
    },
    {
      "cell_type": "markdown",
      "source": [
        "# Google Slides Translator with Vertex AI and Gemini\n",
        "\n",
        "This notebook demonstrates how to automatically translate the text content of a Google Slides presentation into a target language using Vertex AI and the Gemini models.\n",
        "\n",
        "**Prerequisites:**\n",
        "\n",
        "*   A [Google Cloud Platform](https://console.cloud.google.com/) (GCP) project with the [Vertex AI](https://console.cloud.google.com/vertex-ai/studio/multimodal) enabled.\n",
        "*   Sufficient permissions to access [Google Drive](https://console.cloud.google.com/marketplace/product/google/drive.googleapis.com) and [Google Slides](https://console.cloud.google.com/marketplace/product/google/slides.googleapis.com), and to use [Vertex AI](https://console.cloud.google.com/marketplace/product/google/aiplatform.googleapis.com).\n",
        "\n",
        "**How to Use:**\n",
        "\n",
        "1.  **Configure User Settings:** In the \"User Configuration\" cell, provide your GCP Project ID, the ID of the Google Slides presentation you want to translate, the target language, the desired Gemini model, the Vertex AI location, and the maximum number of workers for concurrent API calls.\n",
        "2.  **Run the Notebook:** Execute all the code cells in sequence.\n",
        "3.  **Access Translated Presentation:** Once the execution is complete, a link to the translated copy of your presentation will be provided in the output of the last code cell.\n",
        "\n",
        "**What the notebook does:**\n",
        "\n",
        "1.  Copies the original Google Slides presentation.\n",
        "2.  Extracts all text elements from the copied presentation.\n",
        "3.  Translates the extracted text using the specified Vertex AI Gemini model.\n",
        "4.  Replaces the original text in the copied presentation with the translated text.\n",
        "5.  Reports the token usage and estimated cost of the translation."
      ],
      "metadata": {
        "id": "LhyZ4R8SMiFo"
      }
    },
    {
      "cell_type": "markdown",
      "source": [
        "# Examples\n",
        "\n",
        "- Original Slides: https://docs.google.com/presentation/d/1CvmBW0BmorHpC6NwYCh94qTAMZY9MlUx7ClcSwCg7Dg/edit?slide=id.p#slide=id.p\n",
        "- Slides Translated in French:https://docs.google.com/presentation/d/1t7MqZG5BUCbTbDKlOu25e0BLi00IIIcFVWKZCCt8h2o/edit?slide=id.p#slide=id.p\n",
        "- Slides Translated in German: https://docs.google.com/presentation/d/1jYGc7bqus-Kluvmww5U8T3WgALDayh5cfsYgJPiA6ds/edit?slide=id.p#slide=id.p\n",
        "- Slides Translated in Luxembourgish: https://docs.google.com/presentation/d/1vcmMHp_vh1pMhNgLMlVyGC_wRJawtY9-_g8T1df5Hfo/edit"
      ],
      "metadata": {
        "id": "6ksNYqxSWylm"
      }
    },
    {
      "cell_type": "code",
      "source": [
        "# @title User Configuration\n",
        "# @markdown Your Google Cloud project ID\n",
        "PROJECT_ID = \"slides-to-translate\" # @param {type:\"string\"}\n",
        "# @markdown The ID of your Google Slides presentation\n",
        "PRESENTATION_ID = \"1CvmBW0BmorHpC6NwYCh94qTAMZY9MlUx7ClcSwCg7Dg\" # @param {type:\"string\"}\n",
        "# @markdown The language you want to translate the text into\n",
        "TARGET_LANGUAGE = \"German\" # @param {type:\"string\"}\n",
        "# @markdown The AI model to use for translation\n",
        "MODEL_NAME = \"gemini-2.5-flash\" # @param [\"gemini-2.5-flash-lite\", \"gemini-2.5-flash\", \"gemini-2.5-pro\"]\n",
        "# @markdown The region for Vertex AI\n",
        "LOCATION = \"global\" # @param {type:\"string\"}\n",
        "# @markdown Number of workers for concurrent API calls\n",
        "MAX_WORKERS = 10 # @param {type:\"integer\"}\n",
        "# @markdown Extra prompt to guide the model output\n",
        "EXTRA_PROMPT = \"This is about a meetup resentation titled 'Strengthen your AI/ML Coding Skills with the MLOps Coding Course'\" # @param {type:\"string\"}"
      ],
      "metadata": {
        "id": "gUzjJWSc9yxY"
      },
      "execution_count": null,
      "outputs": []
    },
    {
      "cell_type": "code",
      "source": [
        "# @title Dependencies Installation\n",
        "!pip install --quiet --upgrade google-api-python-client google-auth-httplib2 google-auth-oauthlib google-genai"
      ],
      "metadata": {
        "id": "npCLU3Ys99Kk"
      },
      "execution_count": null,
      "outputs": []
    },
    {
      "cell_type": "code",
      "source": [
        "# @title Initialization\n",
        "import re\n",
        "from google import genai\n",
        "from google.colab import auth\n",
        "from google.genai import types\n",
        "from googleapiclient.discovery import build\n",
        "from concurrent.futures import ThreadPoolExecutor, as_completed"
      ],
      "metadata": {
        "id": "_Kvx30L_-MV4"
      },
      "execution_count": null,
      "outputs": []
    },
    {
      "cell_type": "code",
      "source": [
        "# @title Authenticate with Google Cloud Project\n",
        "auth.authenticate_user(project_id=PROJECT_ID)"
      ],
      "metadata": {
        "id": "P0gKbeIz-fT_"
      },
      "execution_count": null,
      "outputs": []
    },
    {
      "cell_type": "code",
      "source": [
        "# @title Build the Google Drive and Slides service client\n",
        "drive_service = build('drive', 'v3')\n",
        "slides_service = build('slides', 'v1')"
      ],
      "metadata": {
        "id": "-3msWtaA-rSk"
      },
      "execution_count": null,
      "outputs": []
    },
    {
      "cell_type": "code",
      "source": [
        "# @title Build the Generative AI Client\n",
        "client = genai.Client(vertexai=True, project=PROJECT_ID, location=LOCATION)"
      ],
      "metadata": {
        "id": "H-Kzx4EG_726"
      },
      "execution_count": null,
      "outputs": []
    },
    {
      "cell_type": "code",
      "source": [
        "# @title Copy the original presentation\n",
        "\n",
        "original_presentation = slides_service.presentations().get(presentationId=PRESENTATION_ID).execute()\n",
        "original_title = original_presentation.get('title', 'Untitled')\n",
        "\n",
        "print(f\"📄 Making a copy of the presentation '{original_title}' ...\")\n",
        "\n",
        "copy_title = f\"{original_title} ({TARGET_LANGUAGE} Translation)\"\n",
        "copied_file = drive_service.files().copy(fileId=PRESENTATION_ID, body={'name': copy_title}).execute()\n",
        "copied_presentation_id = copied_file['id']\n",
        "copied_presentation_url = f'https://docs.google.com/presentation/d/{copied_presentation_id}/edit'\n",
        "\n",
        "print(f\"✅ Successfully copied to: {copied_presentation_url}\")\n",
        "\n",
        "presentation = slides_service.presentations().get(presentationId=copied_presentation_id).execute()\n",
        "slides = presentation.get('slides', [])\n",
        "print(f\"🔍 Found {len(slides)} slides in the new presentation.\")"
      ],
      "metadata": {
        "colab": {
          "base_uri": "https://localhost:8080/"
        },
        "id": "JAZSsawWp19n",
        "outputId": "06d1a84d-ded7-4b3d-e42c-4bdfa478fcc9"
      },
      "execution_count": null,
      "outputs": [
        {
          "output_type": "stream",
          "name": "stdout",
          "text": [
            "📄 Making a copy of the presentation 'Strengthen your AI/ML Coding Skills with the MLOps Coding Course - MLflow Ambassador - 2024-06-05' ...\n",
            "✅ Successfully copied to: https://docs.google.com/presentation/d/1jYGc7bqus-Kluvmww5U8T3WgALDayh5cfsYgJPiA6ds/edit\n",
            "🔍 Found 22 slides in the new presentation.\n"
          ]
        }
      ]
    },
    {
      "cell_type": "code",
      "metadata": {
        "colab": {
          "base_uri": "https://localhost:8080/"
        },
        "id": "fa8e98fd",
        "outputId": "52c9b9a7-e5e2-4f26-acaf-c00b92288e4d"
      },
      "source": [
        "# @title 2. Extract all text run elements\n",
        "\n",
        "texts_to_locations = {}\n",
        "for slide in slides:\n",
        "    slide_id = slide['objectId']\n",
        "    for element in slide.get('pageElements', []):\n",
        "        if 'shape' in element and 'text' in element['shape']:\n",
        "            for text_element in element['shape']['text'].get('textElements', []):\n",
        "                if 'textRun' in text_element:\n",
        "                    content = text_element['textRun']['content'].strip()\n",
        "                    # Filter out empty strings and text without letters\n",
        "                    if content and re.search('[a-zA-Z]', content):\n",
        "                        if content not in texts_to_locations:\n",
        "                            texts_to_locations[content] = set()\n",
        "                        texts_to_locations[content].add(slide_id)\n",
        "\n",
        "unique_texts = list(texts_to_locations.keys())\n",
        "slides_ids = {slide_id for locations in texts_to_locations.values() for slide_id in locations}\n",
        "print(f'🔍 Found {len(unique_texts)} individual text runs to translate across {len(slides_ids)} slides.')"
      ],
      "execution_count": null,
      "outputs": [
        {
          "output_type": "stream",
          "name": "stdout",
          "text": [
            "🔍 Found 211 individual text runs to translate across 22 slides.\n"
          ]
        }
      ]
    },
    {
      "cell_type": "code",
      "metadata": {
        "colab": {
          "base_uri": "https://localhost:8080/"
        },
        "id": "df34b572",
        "outputId": "15de580e-f613-4950-f1dd-22482ed6acb3"
      },
      "source": [
        "# @title 3. Translating text to new language using Vertex AI\n",
        "\n",
        "instructions = (\n",
        "    f\"Translate the following text to {TARGET_LANGUAGE} as accurately as possible. \"\n",
        "    f\"You are provide with this context to perform the task: '{EXTRA_PROMPT}'\"\n",
        "    \"Do not add any preamble, intro, or explanation; return only the translated text. \"\n",
        ")\n",
        "\n",
        "usages = []\n",
        "translations = {}\n",
        "\n",
        "def translate_text(text):\n",
        "    \"\"\"Translates a single text string and returns the original and translated text with the model usage.\"\"\"\n",
        "    try:\n",
        "        response = client.models.generate_content(\n",
        "            model=MODEL_NAME,\n",
        "            contents=text,\n",
        "            config=types.GenerateContentConfig(\n",
        "                system_instruction=instructions,\n",
        "                temperature=0.0,\n",
        "            )\n",
        "        )\n",
        "        translation = response.text.strip()\n",
        "        usage = response.usage_metadata\n",
        "        return text, translation, usage\n",
        "    except Exception as error:\n",
        "        print(f\"Error translating '{text}': {error}\")\n",
        "        return text, None, None\n",
        "\n",
        "# Use ThreadPoolExecutor for concurrent translation\n",
        "with ThreadPoolExecutor(max_workers=MAX_WORKERS) as executor:\n",
        "    futures = [executor.submit(translate_text, text) for text in unique_texts]\n",
        "    for i, future in enumerate(as_completed(futures)):\n",
        "        text, translation, usage = future.result()\n",
        "        if usage:\n",
        "            usages.append(usage)\n",
        "        if translation:\n",
        "            translations[text] = translation\n",
        "        print(f\"- [{i+1}/{len(futures)}] '{text}' -> '{translation}'\")"
      ],
      "execution_count": null,
      "outputs": [
        {
          "output_type": "stream",
          "name": "stdout",
          "text": [
            "- [1/211] 'Médéric HURIER & Matthieu JIMENEZ' -> 'Médéric HURIER und Matthieu JIMENEZ'\n",
            "- [2/211] 'Dr. Médéric HURIER' -> 'Dr. Médéric HURIER'\n",
            "- [3/211] 'About us' -> 'Über uns'\n",
            "- [4/211] 'Decathlon Digital' -> 'Decathlon Digital'\n",
            "- [5/211] 'Dr. Matthieu JIMENEZ' -> 'Dr. Matthieu JIMENEZ'\n",
            "- [6/211] 'Freelance MLOps Engineer' -> 'Freiberuflicher MLOps-Ingenieur'\n",
            "- [7/211] 'University of Luxembourg' -> 'Universität Luxemburg'\n",
            "- [8/211] 'MLflow Ambassador - 2024-06-05' -> 'MLflow Ambassador - 2024-06-05'\n",
            "- [9/211] 'https://www.fmind.dev/' -> 'https://www.fmind.dev/'\n",
            "- [10/211] 'Where to begin ?' -> 'Wo anfangen?'\n",
            "- [11/211] 'Strengthen your AI/ML Coding Skills with the' -> 'Stärken Sie Ihre KI/ML-Programmierkenntnisse mit dem'\n",
            "- [12/211] 'Many things to know in Machine Learning (Frameworks, Solutions, Theories, Data …)' -> 'Vieles zu wissen im Maschinellen Lernen (Frameworks, Lösungen, Theorien, Daten …)'\n",
            "- [13/211] 'Research Associate' -> 'Wissenschaftlicher Mitarbeiter'\n",
            "- [14/211] 'Mad Landscape 2023' -> 'Verrückte Landschaft 2023'\n",
            "- [15/211] 'team' -> 'Team'\n",
            "- [16/211] 'MLOps Coding Course' -> 'MLOps-Programmierkurs'\n",
            "- [17/211] 'Data Science' -> 'Data Science'\n",
            "- [18/211] 'PhD in Computer Security and AI' -> 'Doktor in Computersicherheit und KI'\n",
            "- [19/211] 'Médéric & Matthieu' -> 'Médéric & Matthieu'\n",
            "- [20/211] '© adobe' -> '© adobe'\n",
            "- [21/211] 'Many Software Engineering  concepts and technologies apply to ML, especially for production.' -> 'Viele Software-Engineering-Konzepte und -Technologien finden Anwendung im ML, insbesondere für die Produktion.'\n",
            "- [22/211] 'Where it all really started' -> 'Wo alles wirklich begann'\n",
            "- [23/211] 'MLOps Python Package' -> 'MLOps-Python-Paket'\n",
            "- [24/211] 'One solution is to ask ML engineer, but this result in bottleneck and is hindered by communication issues.' -> 'Eine Lösung besteht darin, einen ML-Ingenieur zu fragen, doch dies führt zu einem Engpass und wird durch Kommunikationsprobleme behindert.'\n",
            "- [25/211] 'ML Engineering team' -> 'ML-Engineering-Team'\n",
            "- [26/211] 'Working for' -> 'Arbeiten für'\n",
            "- [27/211] '© datascientest' -> '© datascientest'\n",
            "- [28/211] 'Created based on an actual  MLOps template' -> 'Basierend auf einer echten MLOps-Vorlage erstellt.'\n",
            "- [29/211] 'The Idea' -> 'Die Idee'\n",
            "- [30/211] 'Include many  OSS Libraries useful for MLOps' -> 'Beinhaltet viele nützliche Open-Source-Bibliotheken für MLOps.'\n",
            "- [31/211] 'platform agnostic' -> 'plattformunabhängig'\n",
            "- [32/211] 'https://website.jimenez.lu/' -> 'Stärken Sie Ihre KI/ML-Programmierkenntnisse mit dem MLOps Coding Kurs'\n",
            "- [33/211] 'Should be' -> 'Sollte sein'\n",
            "- [34/211] 'https://github.com/fmind/mlops-python-package' -> 'https://github.com/fmind/mlops-python-package'\n",
            "- [35/211] 'Problem how to explain all the notion behind ?' -> 'Problem, wie man alle Konzepte dahinter erklärt?'\n",
            "- [36/211] '© wikicommons' -> '© Wikimedia Commons'\n",
            "- [37/211] 'Have design patterns integrated out of the box.' -> 'Design Patterns von Haus aus integriert.'\n",
            "- [38/211] 'But what about code related ones ?' -> 'Aber wie sieht es mit den codebezogenen aus?'\n",
            "- [39/211] 'Design to be applicable right away (e.g., for Mederic’s colleagues at Decathlon)' -> 'Sofort anwendbar konzipiert (z.B. für Mederics Kollegen bei Decathlon)'\n",
            "- [40/211] 'Create a course to bridge the knowledge gap' -> 'Einen Kurs entwickeln, um die Wissenslücke zu schließen.'\n",
            "- [41/211] '7 chapters covering various MLOps topics from the coding perspective' -> '7 Kapitel, die verschiedene MLOps-Themen aus der Coding-Perspektive abdecken'\n",
            "- [42/211] 'Release on 22nd May 2024' -> 'Veröffentlichung am 22. Mai 2024'\n",
            "- [43/211] '0. Overview' -> '0. Übersicht'\n",
            "- [44/211] 'Chapters follow the natural path of a project' -> 'Kapitel folgen dem natürlichen Verlauf eines Projekts.'\n",
            "- [45/211] 'Introducing  the MLOps Coding Course' -> 'Einführung in den MLOps Coding-Kurs'\n",
            "- [46/211] '0.0. Course' -> '0.0. Kurs'\n",
            "- [47/211] 'Coupled to the MLOps Python Package' -> 'Gekoppelt an das MLOps Python Package'\n",
            "- [48/211] 'Zero based indexing 0️⃣' -> 'Nullbasierte Indizierung 0️⃣'\n",
            "- [49/211] '0.1. Projects' -> '0.1. Projekte'\n",
            "- [50/211] ': an introduction to the course' -> ': Eine Einführung in den Kurs'\n",
            "- [51/211] '0.2. Datasets' -> '0.2. Datensätze'\n",
            "- [52/211] 'Organized around a Q&A system, with additional resources and examples' -> 'Aufgebaut um ein Q&A-System, mit zusätzlichen Ressourcen und Beispielen'\n",
            "- [53/211] '(already many vendor solution courses exist )' -> '(bereits viele Anbieterlösungskurse existieren)'\n",
            "- [54/211] ': What is this course about?' -> 'Worum geht es bei diesem Kurs?'\n",
            "- [55/211] '0.3. Platforms' -> '0.3. Plattformen'\n",
            "- [56/211] '0.4. Mentoring' -> '0.4. Mentoring'\n",
            "- [57/211] ': On the (un)structure of data' -> 'Zur (Un-)Struktur der Daten'\n",
            "- [58/211] '0.6. Resources' -> '0.6. Ressourcen'\n",
            "- [59/211] ': We are platform agnostic here!' -> 'Wir sind hier plattformunabhängig!'\n",
            "- [60/211] ': Going beyond the course' -> 'Über den Kurs hinaus'\n",
            "- [61/211] 'https://mlops-coding-course.fmind.dev/' -> 'https://mlops-coding-course.fmind.dev/'\n",
            "- [62/211] 'Now the course !' -> 'Nun zum Kurs!'\n",
            "- [63/211] '0.5. Assistants' -> '0.5. Assistenten'\n",
            "- [64/211] '1.1. Python' -> '1.1. Python'\n",
            "- [65/211] '1.2. Pyenv' -> '1.2. Pyenv'\n",
            "- [66/211] ': 1-1 learning sessions' -> 'Einzel-Lernsitzungen'\n",
            "- [67/211] ': And my Python Interpreter' -> 'Und mein Python-Interpreter'\n",
            "- [68/211] '1.0. System' -> '1.0. System'\n",
            "- [69/211] ': Default or bring your own!' -> 'Standard oder eigenes mitbringen!'\n",
            "- [70/211] '1.4. Git' -> '1.4. Git'\n",
            "- [71/211] ': And my Version Control System' -> 'Und mein Versionskontrollsystem'\n",
            "- [72/211] ': And my Python Environment' -> 'Und meine Python-Umgebung'\n",
            "- [73/211] '1.5. GitHub' -> '1.5. GitHub'\n",
            "- [74/211] '1.6. VS Code' -> '1.6. VS Code'\n",
            "- [75/211] ': A premium RAG for you' -> 'Ein Premium RAG für Sie'\n",
            "- [76/211] ': And my Code Repository' -> 'Und mein Code-Repository'\n",
            "- [77/211] ': And my Code Editor' -> ': Und mein Code-Editor'\n",
            "- [78/211] '1.3. Poetry' -> '1.3. Poesie'\n",
            "- [79/211] '1. Initializing' -> 'Initialisierung'\n",
            "- [80/211] ': And my Python Package Manager' -> 'Und mein Python-Paketmanager'\n",
            "- [81/211] ': You have my Operating System' -> 'Sie haben mein Betriebssystem'\n",
            "- [82/211] '2. Prototyping' -> '2. Prototyping'\n",
            "- [83/211] '2.1. Imports' -> '2.1. Importe'\n",
            "- [84/211] '2.0. Notebooks' -> '2.0. Notebooks'\n",
            "- [85/211] ': explore your search space' -> 'Erkunden Sie Ihren Suchraum'\n",
            "- [86/211] '2.2. Configs' -> '2.2. Konfigurationen'\n",
            "- [87/211] '2.3. Datasets:' -> '2.3. Datensätze:'\n",
            "- [88/211] ': By the power of Python ecosystem' -> 'Mit der Kraft des Python-Ökosystems'\n",
            "- [89/211] 'Let's bring our snakes 🐍' -> 'Lasst uns unsere Pythons mitbringen 🐍'\n",
            "- [90/211] '2.4. Analysis' -> '2.4. Analyse'\n",
            "- [91/211] 'https://xkcd.com/2514/' -> 'Stärken Sie Ihre KI/ML-Programmierkenntnisse mit dem MLOps-Programmierkurs'\n",
            "- [92/211] 'To Jupyter notebooks and beyond 🪐' -> 'Zu Jupyter Notebooks und darüber hinaus 🪐'\n",
            "- [93/211] ': To book or not book?' -> 'Buchen oder nicht buchen?'\n",
            "- [94/211] '2.5. Modeling' -> '2.5. Modellierung'\n",
            "- [95/211] 'How to load and handle datasets' -> 'Wie man Datensätze lädt und handhabt'\n",
            "- [96/211] ': Separate the code from the settings' -> 'Trenne den Code von der Konfiguration.'\n",
            "- [97/211] ': prepare your dev. environment' -> 'Bereite deine Entwicklungsumgebung vor.'\n",
            "- [98/211] ': Create AI/ML models and pipelines' -> 'KI/ML-Modelle und Pipelines erstellen'\n",
            "- [99/211] ': Learning how to speak with data' -> 'Mit Daten sprechen lernen'\n",
            "- [100/211] '2.6. Evaluations' -> '2.6. Evaluierungen'\n",
            "- [101/211] '3.1. Modules' -> '3.1. Module'\n",
            "- [102/211] '3. Productionizing' -> '3. Produktivsetzung'\n",
            "- [103/211] '3.2. Paradigms' -> '3.2. Paradigmen'\n",
            "- [104/211] '3.0. Package' -> '3.0. Paket'\n",
            "- [105/211] 'Entering the Industrial Period ⚙️' -> 'Eintritt in das Industriezeitalter ⚙️'\n",
            "- [106/211] '3.4. Configurations' -> '3.4. Konfigurationen'\n",
            "- [107/211] ': The best programming philosophy' -> 'Die beste Programmierphilosophie'\n",
            "- [108/211] ': go reach your audience' -> 'Erreichen Sie Ihr Publikum!'\n",
            "- [109/211] '3.3. Entrypoints' -> '3.3. Einstiegspunkte'\n",
            "- [110/211] 'Lab Equipment' -> 'Laborausrüstung'\n",
            "- [111/211] ': Package = Metadata + Code' -> ': Package = Metadaten + Code'\n",
            "- [112/211] '3.6. VS Code Workspace' -> '3.6. VS Code Arbeitsbereich'\n",
            "- [113/211] ': Divide in modules and conquer' -> 'In Module aufteilen und meistern'\n",
            "- [114/211] 'Good Code' -> 'Guter Code'\n",
            "- [115/211] ': Organize your workspace' -> 'Organisieren Sie Ihren Arbeitsbereich'\n",
            "- [116/211] '3.5. Documentations' -> '3.5. Dokumentationen'\n",
            "- [117/211] ': Put in the science in the modeling' -> 'Die Wissenschaft in die Modellierung einbringen.'\n",
            "- [118/211] ': Good docs make good friends' -> 'Gute Dokus machen gute Freunde'\n",
            "- [119/211] ': Edit your configs, not your code' -> 'Bearbeite deine Konfigurationen, nicht deinen Code'\n",
            "- [120/211] ': insurance & reinsurance' -> 'Versicherung und Rückversicherung'\n",
            "- [121/211] 'Separate configurations from the code' -> 'Konfigurationen vom Code trennen'\n",
            "- [122/211] 'Building a Python package is key' -> 'Das Erstellen eines Python-Pakets ist entscheidend.'\n",
            "- [123/211] ': Expose packages to other systems' -> 'Pakete für andere Systeme bereitstellen'\n",
            "- [124/211] '4.0 Validating' -> '4.0 Validierung'\n",
            "- [125/211] '4.0. Typing' -> '4.0. Codieren'\n",
            "- [126/211] ': Types are schemas' -> 'Typen sind Schemata'\n",
            "- [127/211] '3. Productionizing - Takeaways' -> '3. Produktivsetzung – Wichtige Erkenntnisse'\n",
            "- [128/211] '4.1. Linting' -> '4.1. Linting'\n",
            "- [129/211] '4.2. Testing' -> '4.2. Testen'\n",
            "- [130/211] 'https://xkcd.com/844/' -> 'Stärken Sie Ihre KI/ML-Programmierkenntnisse mit dem MLOps-Programmierkurs'\n",
            "- [131/211] ': Tests are executable specs' -> 'Tests sind ausführbare Spezifikationen'\n",
            "- [132/211] '4.4. Security' -> '4.4. Sicherheit'\n",
            "- [133/211] '4.3. Logging' -> '4.3. Logging'\n",
            "- [134/211] '4.5. Formatting' -> '4.5. Formatierung'\n",
            "- [135/211] 'Modularity helps separate concerns' -> 'Modularität hilft, Belange zu trennen.'\n",
            "- [136/211] ': Linters are safeguards' -> 'Linters sind Schutzmechanismen'\n",
            "- [137/211] 'No sight of formal methods 🌝' -> 'Nichts zu sehen von formalen Methoden 🌝'\n",
            "- [138/211] '4.6. Debugging' -> '4.6. Debugging'\n",
            "- [139/211] 'Software validation is an investment …' -> 'Softwarevalidierung ist eine Investition …'\n",
            "- [140/211] 'Academia vs. Business' -> 'Wissenschaft vs. Wirtschaft'\n",
            "- [141/211] ':  Logging is your intel service' -> 'Logging ist Ihr Nachrichtendienst'\n",
            "- [142/211] ': Debugging is the best bug killer' -> 'Debugging ist der beste Bug-Killer'\n",
            "- [143/211] ': advanced concepts for engineers' -> 'fortgeschrittene Konzepte für Ingenieure'\n",
            "- [144/211] '5. Refining' -> '5. Verfeinerung'\n",
            "- [145/211] 'But it has positive returns on the long run' -> 'Aber es hat langfristig positive Erträge.'\n",
            "- [146/211] '4.0 Validating - Takeaways' -> '4.0 Validierung - Schlüsselerkenntnisse'\n",
            "- [147/211] '5.0. Design Patterns' -> '5.0. Entwurfsmuster'\n",
            "- [148/211] 'https://xkcd.com/664/' -> 'Stärken Sie Ihre AI/ML-Programmierkenntnisse mit dem MLOps-Coding-Kurs'\n",
            "- [149/211] 'Software Engineer 2.0 ✌' -> 'Softwareentwickler 2.0 ✌'\n",
            "- [150/211] '5.1. Task Automation' -> '5.1. Aufgabenautomatisierung'\n",
            "- [151/211] '5.2. Pre-Commit Hooks' -> '5.2. Pre-Commit-Hooks'\n",
            "- [152/211] ': Don't repeat yourself' -> 'Wiederhole dich nicht'\n",
            "- [153/211] '5.3. CI/CD Workflows' -> '5.3. CI/CD Workflows'\n",
            "- [154/211] 'You don't want to be woken up by a silly bug' -> 'Man will nicht von einem dummen Bug aus dem Schlaf gerissen werden.'\n",
            "- [155/211] ':  Build SOLID code bases' -> 'SOLID Codebasen aufbauen'\n",
            "- [156/211] ': Your local CI/CD' -> 'Ihr lokales CI/CD'\n",
            "- [157/211] '5.4. Software Containers' -> '5.4. Software-Container'\n",
            "- [158/211] ': Security is solution bodyguard' -> 'Sicherheit ist Lösung, Bodyguard'\n",
            "- [159/211] 'Exposed your solution to other systems' -> 'Ihre Lösung anderen Systemen bereitstellen'\n",
            "- [160/211] '5.5. AI/ML Experiments' -> '5.5. AI/ML Experimente'\n",
            "- [161/211] 'Automation' -> 'Automatisierung'\n",
            "- [162/211] ':  MLflow Model Registry' -> 'MLflow Model Registry'\n",
            "- [163/211] '5.6. Model Registries' -> '5.6. Modellregister'\n",
            "- [164/211] ': Code in style with formatters' -> 'Code stilgerecht formatieren mit Formatierern'\n",
            "- [165/211] 'Automation, automation, automation' -> 'Automatisierung, Automatisierung, Automatisierung'\n",
            "- [166/211] ': MLflow Tracking' -> 'MLflow-Tracking'\n",
            "- [167/211] ':  Your shared CI/CD' -> 'Ihr gemeinsames CI/CD'\n",
            "- [168/211] ': Keep It Reproducible' -> 'Halte es reproduzierbar'\n",
            "- [169/211] '5. Refining - Takeaways' -> '5. Verfeinerung – Erkenntnisse'\n",
            "- [170/211] '6.0. Repository' -> '6.0. Repository'\n",
            "- [171/211] 'Design patterns are off-the-shelf solutions' -> 'Entwurfsmuster sind Lösungen von der Stange.'\n",
            "- [172/211] '6.1. License' -> '6.1. Lizenz'\n",
            "- [173/211] 'https://xkcd.com/1319/' -> 'Stärken Sie Ihre KI/ML-Programmierkenntnisse mit dem MLOps-Programmierkurs'\n",
            "- [174/211] ': build with others for others' -> 'Bauen mit anderen für andere'\n",
            "- [175/211] 'Containers are your go-to for reproducibility' -> 'Container sind Ihr Mittel der Wahl für Reproduzierbarkeit.'\n",
            "- [176/211] '6. Sharing' -> '6. Teilen'\n",
            "- [177/211] 'Tools like MLflow are ML engineer best friends' -> 'Werkzeuge wie MLflow sind die besten Freunde von ML-Ingenieuren.'\n",
            "- [178/211] '6.2. Readme' -> '6.2. Readme'\n",
            "- [179/211] '6.4. Templates' -> '6.4. Vorlagen'\n",
            "- [180/211] ': Reference you project' -> 'Referenzieren Sie Ihr Projekt'\n",
            "- [181/211] '6.5. Workstations' -> '6.5. Arbeitsstationen'\n",
            "- [182/211] 'Join us now and share the software ♫' -> 'Mach jetzt mit und teile die Software ♫'\n",
            "- [183/211] ': Tell people what have changed' -> 'Sagen Sie den Leuten, was sich geändert hat.'\n",
            "- [184/211] '6.3. Releases' -> '6.3. Veröffentlichungen'\n",
            "- [185/211] ': Help people execute your code' -> 'Hilf Menschen, deinen Code auszuführen'\n",
            "- [186/211] ': Tell what people can do with it' -> 'Sagen Sie, was man damit machen kann.'\n",
            "- [187/211] 'Supported Features' -> 'Unterstützte Funktionen'\n",
            "- [188/211] '6.6. Contributions' -> '6.6. Beiträge'\n",
            "- [189/211] ': Tell how people can use it' -> 'Erzählen Sie, wie man es nutzen kann.'\n",
            "- [190/211] 'https://xkcd.com/619/' -> 'Stärken Sie Ihre KI/ML-Programmierkenntnisse mit dem MLOps-Programmierkurs'\n",
            "- [191/211] 'Mentoring' -> 'Mentoring'\n",
            "- [192/211] 'Explain the choice of Q&A' -> 'Begründen Sie die Wahl der Fragerunde.'\n",
            "- [193/211] ': Tell people how to build their own' -> ': Erklären, wie man sein eigenes erstellt.'\n",
            "- [194/211] ': Tell people how to contribute' -> 'Erzählen Sie den Leuten, wie sie beitragen können.'\n",
            "- [195/211] 'Demo time' -> 'Demozeit'\n",
            "- [196/211] 'Need a Hand ?' -> 'Brauchen Sie Hilfe?'\n",
            "- [197/211] 'The course is Open Source on Github' -> 'Der Kurs ist Open Source auf GitHub'\n",
            "- [198/211] 'MLOPS coding chatbot assistant' -> 'MLOPS-Coding-Chatbot-Assistent'\n",
            "- [199/211] 'Gemini with the entire course as context, able to answer about any specific part of the class.' -> 'Gemini mit dem gesamten Kurs als Kontext, in der Lage, zu jedem beliebigen Teil des Kurses Fragen zu beantworten.'\n",
            "- [200/211] 'virtual or real, we got you covered !' -> 'Ob virtuell oder real, wir haben an alles gedacht!'\n",
            "- [201/211] 'MLflow' -> 'MLflow'\n",
            "- [202/211] '© DALL.E' -> '© DALL.E'\n",
            "- [203/211] 'Thanks for your attention!' -> 'Vielen Dank für Ihre Aufmerksamkeit!'\n",
            "- [204/211] 'I hope this course will help learners understand experiment/model management through' -> 'Ich hoffe, dieser Kurs wird Lernenden helfen, Experiment-/Modellverwaltung durch'\n",
            "- [205/211] 'https://mlops-coding-course.fmind.dev' -> 'https://mlops-coding-course.fmind.dev'\n",
            "- [206/211] 'Don’t hesitate to build upon it (just mention us ;) )' -> 'Zögert nicht, darauf aufzubauen (erwähnt uns einfach ;) )'\n",
            "- [207/211] 'Validations are the developer community rules' -> 'Die Validierungen sind die Regeln der Entwicklergemeinschaft.'\n",
            "- [208/211] 'Contributing and Suggestions' -> 'Beiträge und Vorschläge'\n",
            "- [209/211] 'If you have any comments,  corrections or new content idea, get in touch!' -> 'Falls Sie Anmerkungen, Korrekturen oder Ideen für neue Inhalte haben, melden Sie sich gerne!'\n",
            "- [210/211] 'MLOps Community Slack' -> 'MLOps Community Slack'\n",
            "- [211/211] 'Join us on the' -> 'Begleiten Sie uns am'\n"
          ]
        }
      ]
    },
    {
      "cell_type": "code",
      "metadata": {
        "colab": {
          "base_uri": "https://localhost:8080/"
        },
        "id": "d3be921e",
        "outputId": "db8a4657-0734-4f88-e1a6-ab8dcc768e85"
      },
      "source": [
        "# @title Preparing batch update requests\n",
        "\n",
        "# Sort translations from longer to shorter strings to avoid conflicts\n",
        "sorted_translations = sorted(translations.items(), key=lambda item: len(item[0]), reverse=True)\n",
        "\n",
        "requests = []\n",
        "for text, translation in sorted_translations:\n",
        "    # Ensure the translated text is not empty or just whitespace\n",
        "    if translation.strip():\n",
        "        # Get the specific slide IDs for this text\n",
        "        page_ids = texts_to_locations.get(text)\n",
        "        if page_ids:\n",
        "            requests.append({\n",
        "                'replaceAllText': {\n",
        "                    'replaceText': translation,\n",
        "                    'pageObjectIds': list(page_ids),\n",
        "                    'containsText': {\n",
        "                        'text': text,\n",
        "                        'matchCase': True,\n",
        "                    }\n",
        "                }\n",
        "            })\n",
        "\n",
        "print(f'🌟 Number of change requests: {len(requests)}')"
      ],
      "execution_count": null,
      "outputs": [
        {
          "output_type": "stream",
          "name": "stdout",
          "text": [
            "🌟 Number of change requests: 211\n"
          ]
        }
      ]
    },
    {
      "cell_type": "code",
      "source": [
        "# @title Execute the batch update to replace all text\n",
        "\n",
        "batch_size = 50\n",
        "total_changes = 0\n",
        "for i, start in enumerate(range(0, len(requests), batch_size)):\n",
        "    stop = start + batch_size\n",
        "    batch = requests[start:stop]\n",
        "    body = {'requests': batch}\n",
        "    print(f'- Batch {i}: {start} -> {stop}', end='')\n",
        "    response = slides_service.presentations().batchUpdate(presentationId=copied_presentation_id, body=body).execute()\n",
        "    changes = sum(reply.get('replaceAllText', {}).get('occurrencesChanged', 0) for reply in response.get('replies', []))\n",
        "    print(f' - Changes: {changes}')\n",
        "    total_changes += changes\n",
        "\n",
        "print(f\"✅ Success! Your presentation has been updated with {total_changes} changes:\\n{copied_presentation_url}\")"
      ],
      "metadata": {
        "colab": {
          "base_uri": "https://localhost:8080/"
        },
        "id": "nW0I6tJzThM2",
        "outputId": "b280d667-1689-4a20-947e-6fdc0345b4af"
      },
      "execution_count": null,
      "outputs": [
        {
          "output_type": "stream",
          "name": "stdout",
          "text": [
            "- Batch 0: 0 -> 50 - Changes: 50\n",
            "- Batch 1: 50 -> 100 - Changes: 51\n",
            "- Batch 2: 100 -> 150 - Changes: 50\n",
            "- Batch 3: 150 -> 200 - Changes: 51\n",
            "- Batch 4: 200 -> 250 - Changes: 11\n",
            "✅ Success! Your presentation has been updated with 213 changes:\n",
            "https://docs.google.com/presentation/d/1jYGc7bqus-Kluvmww5U8T3WgALDayh5cfsYgJPiA6ds/edit\n"
          ]
        }
      ]
    },
    {
      "cell_type": "code",
      "source": [
        "# @title 6. Report token usage and total cost\n",
        "\n",
        "prices = {\n",
        "    \"gemini-2.5-pro\": {\n",
        "        \"input\": 1.25 / 1_000_000,\n",
        "        \"output\": 10.00 / 1_000_000,\n",
        "    },\n",
        "    \"gemini-2.5-flash\": {\n",
        "        \"input\": 0.30 / 1_000_000,\n",
        "        \"output\": 2.50 / 1_000_000,\n",
        "    },\n",
        "    \"gemini-2.5-flash-lite\": {\n",
        "        \"input\": 0.1 / 1_000_000,\n",
        "        \"output\": 0.4 / 1_000_000,\n",
        "    },\n",
        "}\n",
        "\n",
        "total_input_tokens = 0\n",
        "total_output_tokens = 0\n",
        "price_table = prices[MODEL_NAME]\n",
        "price_input_tokens = price_table[\"input\"]\n",
        "price_output_tokens = price_table[\"output\"]\n",
        "\n",
        "for usage in usages:\n",
        "    total_input_tokens += usage.prompt_token_count\n",
        "    total_output_tokens += usage.candidates_token_count\n",
        "\n",
        "input_cost = total_input_tokens * price_input_tokens\n",
        "output_cost = total_output_tokens * price_output_tokens\n",
        "total_cost = input_cost + output_cost\n",
        "\n",
        "print(f\"Total Input Tokens: {total_input_tokens}\")\n",
        "print(f\"Total Output Tokens: {total_output_tokens}\")\n",
        "print(f\"Input Tokens Cost ($): {input_cost}\")\n",
        "print(f\"Total Output Cost ($): {output_cost}\")\n",
        "print(f\"Total Cost ($): {total_cost}\")"
      ],
      "metadata": {
        "colab": {
          "base_uri": "https://localhost:8080/"
        },
        "id": "ICBTF6Y_Trle",
        "outputId": "aece24c6-057a-4a6a-81a0-4ba1e24e10cb"
      },
      "execution_count": null,
      "outputs": [
        {
          "output_type": "stream",
          "name": "stdout",
          "text": [
            "Total Input Tokens: 15088\n",
            "Total Output Tokens: 1687\n",
            "Input Tokens Cost ($): 0.0045264\n",
            "Total Output Cost ($): 0.004217500000000001\n",
            "Total Cost ($): 0.0087439\n"
          ]
        }
      ]
    }
  ]
}